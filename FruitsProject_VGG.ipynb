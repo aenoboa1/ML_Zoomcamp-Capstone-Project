{
  "cells": [
    {
      "cell_type": "code",
      "execution_count": 2,
      "metadata": {
        "colab": {
          "base_uri": "https://localhost:8080/"
        },
        "id": "vpn8_MNGJGke",
        "outputId": "e365897d-50c1-4a07-a7c5-97a2b53a162f"
      },
      "outputs": [
        {
          "name": "stdout",
          "output_type": "stream",
          "text": [
            "Requirement already satisfied: colab_ssh in /usr/local/lib/python3.7/dist-packages (0.3.27)\n",
            "\u001b[31mERROR: Operation cancelled by user\u001b[0m\n",
            "Warning: Due to some issues with ngrok on Google Colab, reported in the issue https://github.com/WassimBenzarti/colab-ssh/issues/45, \n",
            "we highly recommend that update your code by following this documentation https://github.com/WassimBenzarti/colab-ssh#getting-started\n",
            "Successfully running 6.tcp.ngrok.io:15853\n",
            "[Optional] You can also connect with VSCode SSH Remote extension using this configuration:\n",
            "\n",
            "  Host google_colab_ssh\n",
            "    HostName 6.tcp.ngrok.io\n",
            "    User root\n",
            "    Port 15853\n",
            "    \n"
          ]
        }
      ],
      "source": [
        "# Install colab_ssh on google colab\n",
        "!pip install colab_ssh --upgrade\n",
        "\n",
        "from colab_ssh import launch_ssh\n",
        "launch_ssh('21v23nE9rkUZAwWwJZ1zAxGLuwK_7v2uhNRStUAsGmaEtCm5D', 'ml')\n"
      ]
    },
    {
      "cell_type": "code",
      "execution_count": 4,
      "metadata": {
        "id": "MkiV9nXu7dv1"
      },
      "outputs": [],
      "source": [
        "%%capture\n",
        "! pip install kaggle ; mkdir ~/.kaggle ; cp /content/kaggle.json ~/.kaggle ; kaggle datasets download moltean/fruits ; unzip fruits.zip ; pip install visualkeras # module for CNN visualization"
      ]
    },
    {
      "cell_type": "markdown",
      "metadata": {
        "id": "ypHQbW_OvV2Y"
      },
      "source": [
        "In this section of the project I will use the VGG16 Architecture to make predictions again, this architecture is simple and widely used, It's not state of the art but it should be good enough to experiment with."
      ]
    },
    {
      "cell_type": "markdown",
      "metadata": {
        "id": "p3oJXAtI2J9l"
      },
      "source": [
        "## Loading the data and Transfer Learning test (VGG16)"
      ]
    },
    {
      "cell_type": "code",
      "execution_count": 1,
      "metadata": {
        "id": "T-zCYnrV33OM"
      },
      "outputs": [],
      "source": [
        "# Loading the necessary libraries\n",
        "import numpy as np\n",
        "import matplotlib.pyplot as plt\n",
        "import os \n",
        "import tensorflow as tf\n",
        "from tensorflow import keras\n",
        "from tensorflow.keras.applications.xception import Xception\n",
        "from tensorflow.keras.applications.xception import preprocess_input\n",
        "from tensorflow.keras.applications.xception import decode_predictions\n",
        "import visualkeras\n",
        "\n",
        "from tensorflow.keras.preprocessing.image import ImageDataGenerator\n",
        "from tensorflow.keras.applications.xception import preprocess_input\n",
        "\n",
        "\n",
        "# loading image modules\n",
        "from keras.preprocessing.image import ImageDataGenerator, array_to_img, img_to_array, load_img\n",
        "#matplotlib styles\n",
        "plt.style.use(['ggplot'])"
      ]
    },
    {
      "cell_type": "code",
      "execution_count": 2,
      "metadata": {
        "id": "ANdQvtJ24PWT"
      },
      "outputs": [],
      "source": [
        "conv_base = keras.applications.vgg16.VGG16(\n",
        "                          weights=\"imagenet\",\n",
        "                          include_top=False,\n",
        "                          input_shape=(100, 100, 3))"
      ]
    },
    {
      "cell_type": "code",
      "execution_count": 3,
      "metadata": {
        "colab": {
          "base_uri": "https://localhost:8080/",
          "height": 1000
        },
        "id": "QN-Vzks34_uN",
        "outputId": "c5d33cb8-7d0a-48bd-f1a9-74ce3e909c70"
      },
      "outputs": [
        {
          "data": {
            "image/png": "[encoded data removed]",
            "text/plain": [
              "<PIL.Image.Image image mode=RGBA size=923x570 at 0x7F253C08E510>"
            ]
          },
          "execution_count": 3,
          "metadata": {},
          "output_type": "execute_result"
        }
      ],
      "source": [
        "visualkeras.layered_view(conv_base).show()\n",
        "visualkeras.layered_view(conv_base,legend=True)"
      ]
    },
    {
      "cell_type": "code",
      "execution_count": 4,
      "metadata": {
        "colab": {
          "base_uri": "https://localhost:8080/"
        },
        "id": "NKzjTefV4h_j",
        "outputId": "35a3e4ed-e755-4a7b-8c2b-ef7bb72c8a21"
      },
      "outputs": [
        {
          "name": "stdout",
          "output_type": "stream",
          "text": [
            "Model: \"vgg16\"\n",
            "_________________________________________________________________\n",
            " Layer (type)                Output Shape              Param #   \n",
            "=================================================================\n",
            " input_1 (InputLayer)        [(None, 100, 100, 3)]     0         \n",
            "                                                                 \n",
            " block1_conv1 (Conv2D)       (None, 100, 100, 64)      1792      \n",
            "                                                                 \n",
            " block1_conv2 (Conv2D)       (None, 100, 100, 64)      36928     \n",
            "                                                                 \n",
            " block1_pool (MaxPooling2D)  (None, 50, 50, 64)        0         \n",
            "                                                                 \n",
            " block2_conv1 (Conv2D)       (None, 50, 50, 128)       73856     \n",
            "                                                                 \n",
            " block2_conv2 (Conv2D)       (None, 50, 50, 128)       147584    \n",
            "                                                                 \n",
            " block2_pool (MaxPooling2D)  (None, 25, 25, 128)       0         \n",
            "                                                                 \n",
            " block3_conv1 (Conv2D)       (None, 25, 25, 256)       295168    \n",
            "                                                                 \n",
            " block3_conv2 (Conv2D)       (None, 25, 25, 256)       590080    \n",
            "                                                                 \n",
            " block3_conv3 (Conv2D)       (None, 25, 25, 256)       590080    \n",
            "                                                                 \n",
            " block3_pool (MaxPooling2D)  (None, 12, 12, 256)       0         \n",
            "                                                                 \n",
            " block4_conv1 (Conv2D)       (None, 12, 12, 512)       1180160   \n",
            "                                                                 \n",
            " block4_conv2 (Conv2D)       (None, 12, 12, 512)       2359808   \n",
            "                                                                 \n",
            " block4_conv3 (Conv2D)       (None, 12, 12, 512)       2359808   \n",
            "                                                                 \n",
            " block4_pool (MaxPooling2D)  (None, 6, 6, 512)         0         \n",
            "                                                                 \n",
            " block5_conv1 (Conv2D)       (None, 6, 6, 512)         2359808   \n",
            "                                                                 \n",
            " block5_conv2 (Conv2D)       (None, 6, 6, 512)         2359808   \n",
            "                                                                 \n",
            " block5_conv3 (Conv2D)       (None, 6, 6, 512)         2359808   \n",
            "                                                                 \n",
            " block5_pool (MaxPooling2D)  (None, 3, 3, 512)         0         \n",
            "                                                                 \n",
            "=================================================================\n",
            "Total params: 14,714,688\n",
            "Trainable params: 14,714,688\n",
            "Non-trainable params: 0\n",
            "_________________________________________________________________\n"
          ]
        }
      ],
      "source": [
        "conv_base.summary() # Print a Summary of the VGG-16 Architecture "
      ]
    },
    {
      "cell_type": "markdown",
      "metadata": {
        "id": "bFCpfbKq6AbO"
      },
      "source": [
        "## Extracting features using this pretrained convolutional base"
      ]
    },
    {
      "cell_type": "code",
      "execution_count": 5,
      "metadata": {
        "id": "JWPNzIKe7Qst"
      },
      "outputs": [],
      "source": [
        "train_dir = '/content/fruits-360_dataset/fruits-360/Training'\n",
        "test_dir = '/content/fruits-360_dataset/fruits-360/Test'\n"
      ]
    },
    {
      "cell_type": "code",
      "execution_count": 7,
      "metadata": {
        "colab": {
          "base_uri": "https://localhost:8080/"
        },
        "id": "ryu5aMsu5k2c",
        "outputId": "1b53331d-3a1e-435a-bdb1-bbf9f22361b3"
      },
      "outputs": [
        {
          "name": "stdout",
          "output_type": "stream",
          "text": [
            "Found 54190 images belonging to 131 classes.\n",
            "Found 13502 images belonging to 131 classes.\n"
          ]
        }
      ],
      "source": [
        "train_gen = ImageDataGenerator(\n",
        "    preprocessing_function=preprocess_input,\n",
        "    #split for validation\n",
        "    validation_split=0.2)\n",
        "\n",
        "train_ds = train_gen.flow_from_directory(\n",
        "    train_dir,\n",
        "    target_size=(100, 100),\n",
        "    batch_size=32,\n",
        "    shuffle=True,# IMPORTANT , shuffle the dataset\n",
        "    subset='training'# set as training data\n",
        ")\n",
        "\n",
        "\n"
      ]
    },
    {
      "cell_type": "code",
      "execution_count": null,
      "metadata": {},
      "outputs": [],
      "source": [
        "\n",
        "val_ds = train_gen.flow_from_directory(\n",
        "    train_dir, # same directory as training data\n",
        "    target_size=(100, 100),\n",
        "    batch_size=32,\n",
        "    subset='validation') # set as validation data\n"
      ]
    },
    {
      "cell_type": "code",
      "execution_count": 8,
      "metadata": {
        "colab": {
          "base_uri": "https://localhost:8080/"
        },
        "id": "ITWGsqw4yzLV",
        "outputId": "1501821a-112b-41cb-b09d-b9065c11dee8"
      },
      "outputs": [
        {
          "name": "stdout",
          "output_type": "stream",
          "text": [
            "Found 22688 images belonging to 131 classes.\n"
          ]
        }
      ],
      "source": [
        "\n",
        "test_gen = ImageDataGenerator(preprocessing_function=preprocess_input)\n",
        "\n",
        "test_ds = test_gen.flow_from_directory(\n",
        "    test_dir,\n",
        "    target_size=(100, 100),\n",
        "    batch_size=32,\n",
        "    shuffle=True)"
      ]
    },
    {
      "cell_type": "code",
      "execution_count": 10,
      "metadata": {},
      "outputs": [],
      "source": [
        "from keras import models,layers\n"
      ]
    },
    {
      "cell_type": "markdown",
      "metadata": {},
      "source": [
        "Here we define the model to be executed, similar to XCeption, with layers representing the following: \n",
        "\n",
        "- Flatten() : flattens the 3d tensor into a 2D Shape"
      ]
    },
    {
      "cell_type": "code",
      "execution_count": 15,
      "metadata": {
        "colab": {
          "base_uri": "https://localhost:8080/"
        },
        "id": "31HIZ14G7EmK",
        "outputId": "33179777-aa6d-4390-ff30-379271add6e0"
      },
      "outputs": [],
      "source": [
        "def build_model(alpha=0.05):\n",
        "    conv_base = keras.applications.vgg16.VGG16(\n",
        "                            weights=\"imagenet\",\n",
        "                            include_top=False, # include the densely connected classifier on top of the network\n",
        "                            input_shape=(100, 100, 3)) \n",
        "    \n",
        "    conv_base.trainable = False # Freeze the convolutional base \n",
        "\n",
        "    model = models.Sequential()\n",
        "    \n",
        "    model.add(conv_base)\n",
        "    model.add(layers.Flatten())\n",
        "    \n",
        "    # model.add(layers.Dense(256, activation='relu', input_dim=4 * 4 * 512))\n",
        "    # model.add(layers.Dropout(0.5))\n",
        "\n",
        "    model.add(layers.Dense(131, activation='sigmoid'))\n",
        "\n",
        "    model.compile(optimizer=keras.optimizers.RMSprop(learning_rate=alpha),       \n",
        "                loss='categorical_crossentropy',\n",
        "                metrics=['accuracy']\n",
        "                )\n",
        "    \n",
        "    return model                 "
      ]
    },
    {
      "cell_type": "code",
      "execution_count": 16,
      "metadata": {},
      "outputs": [
        {
          "name": "stdout",
          "output_type": "stream",
          "text": [
            "Epoch 1/10\n",
            "1694/1694 [==============================] - 51s 30ms/step - loss: 3.3058 - accuracy: 0.4911 - val_loss: 2.1678 - val_accuracy: 0.8132\n",
            "Epoch 2/10\n",
            "1694/1694 [==============================] - 51s 30ms/step - loss: 1.4681 - accuracy: 0.9106 - val_loss: 1.1296 - val_accuracy: 0.8969\n",
            "Epoch 3/10\n",
            "1694/1694 [==============================] - 48s 29ms/step - loss: 0.7654 - accuracy: 0.9614 - val_loss: 0.6790 - val_accuracy: 0.9245\n",
            "Epoch 4/10\n",
            "1694/1694 [==============================] - 48s 28ms/step - loss: 0.4462 - accuracy: 0.9791 - val_loss: 0.4609 - val_accuracy: 0.9393\n",
            "Epoch 5/10\n",
            "1694/1694 [==============================] - 49s 29ms/step - loss: 0.2827 - accuracy: 0.9874 - val_loss: 0.3340 - val_accuracy: 0.9515\n",
            "Epoch 6/10\n",
            "1694/1694 [==============================] - 50s 29ms/step - loss: 0.1904 - accuracy: 0.9913 - val_loss: 0.2626 - val_accuracy: 0.9550\n",
            "Epoch 7/10\n",
            "1694/1694 [==============================] - 49s 29ms/step - loss: 0.1350 - accuracy: 0.9932 - val_loss: 0.2140 - val_accuracy: 0.9600\n",
            "Epoch 8/10\n",
            "1694/1694 [==============================] - 50s 30ms/step - loss: 0.0994 - accuracy: 0.9945 - val_loss: 0.1812 - val_accuracy: 0.9637\n",
            "Epoch 9/10\n",
            "1694/1694 [==============================] - 50s 30ms/step - loss: 0.0758 - accuracy: 0.9954 - val_loss: 0.1630 - val_accuracy: 0.9613\n",
            "Epoch 10/10\n",
            "1694/1694 [==============================] - 51s 30ms/step - loss: 0.0594 - accuracy: 0.9960 - val_loss: 0.1434 - val_accuracy: 0.9650\n"
          ]
        }
      ],
      "source": [
        "alpha= 0.001\n",
        "\n",
        "model = build_model(alpha=alpha)\n",
        "history = model.fit(train_ds,\n",
        "                        epochs=10,\n",
        "                        batch_size=20,\n",
        "                        validation_data=val_ds)"
      ]
    },
    {
      "cell_type": "code",
      "execution_count": 55,
      "metadata": {},
      "outputs": [
        {
          "data": {
            "text/plain": [
              "<matplotlib.legend.Legend at 0x7f24781e1a10>"
            ]
          },
          "execution_count": 55,
          "metadata": {},
          "output_type": "execute_result"
        },
        {
          "data": {
            "image/png": "[encoded data removed]",
            "text/plain": [
              "<Figure size 432x288 with 1 Axes>"
            ]
          },
          "metadata": {},
          "output_type": "display_data"
        }
      ],
      "source": [
        "plt.plot(history.history['accuracy'],label='training')\n",
        "plt.title(\"Training vs Validation Accuracy - VGG 16 First Model\")\n",
        "plt.plot(history.history['val_accuracy'],label='validation')\n",
        "plt.ylim(0.9, 1) # zoom to look the graphs more closely\n",
        "plt.legend()"
      ]
    },
    {
      "cell_type": "code",
      "execution_count": 59,
      "metadata": {},
      "outputs": [
        {
          "data": {
            "text/plain": [
              "<matplotlib.legend.Legend at 0x7f2478217ad0>"
            ]
          },
          "execution_count": 59,
          "metadata": {},
          "output_type": "execute_result"
        },
        {
          "data": {
            "image/png": "[encoded data removed]",
            "text/plain": [
              "<Figure size 432x288 with 1 Axes>"
            ]
          },
          "metadata": {},
          "output_type": "display_data"
        }
      ],
      "source": [
        "plt.plot(history.history['loss'],'ro',label='training')\n",
        "plt.title(\"Training vs Validation Accuracy - VGG 16 First Model\")\n",
        "plt.plot(history.history['val_loss'],'b',label='validation')\n",
        "\n",
        "\n",
        "plt.legend()"
      ]
    },
    {
      "cell_type": "code",
      "execution_count": 17,
      "metadata": {
        "colab": {
          "base_uri": "https://localhost:8080/"
        },
        "id": "eRYsfYULyfRX",
        "outputId": "5618af32-a933-4ec6-f979-f941160e057b"
      },
      "outputs": [
        {
          "name": "stdout",
          "output_type": "stream",
          "text": [
            "709/709 [==============================] - 25s 36ms/step - loss: 0.3685 - accuracy: 0.9200\n"
          ]
        },
        {
          "data": {
            "text/plain": [
              "[0.3684837520122528, 0.91995769739151]"
            ]
          },
          "execution_count": 17,
          "metadata": {},
          "output_type": "execute_result"
        }
      ],
      "source": [
        "model.evaluate(test_ds)\n",
        "\n"
      ]
    },
    {
      "cell_type": "markdown",
      "metadata": {},
      "source": [
        "91 % accuracy on the test dataset ! That's really impressive considering no parameter has been tuned yet. "
      ]
    },
    {
      "cell_type": "markdown",
      "metadata": {
        "id": "7XH6JpIA1Wr2"
      },
      "source": [
        "## Fine-tuning this model using keras"
      ]
    },
    {
      "cell_type": "markdown",
      "metadata": {},
      "source": [
        "Fine-tuning is a widely used technique for model reuse, it basically allows for more abstract representations of the reused model, and with that allow it to be more relevant for the current problem. "
      ]
    },
    {
      "cell_type": "markdown",
      "metadata": {},
      "source": [
        "This code allows the freezing of all layers until the fourth to the last:\n",
        "```python\n",
        "conv_base.trainable = True\n",
        "for layer in conv_base.layers[:-4]:\n",
        "    layer.trainable = False\n",
        "```"
      ]
    },
    {
      "cell_type": "code",
      "execution_count": 50,
      "metadata": {},
      "outputs": [
        {
          "name": "stdout",
          "output_type": "stream",
          "text": [
            "Model: \"vgg16\"\n",
            "_________________________________________________________________\n",
            " Layer (type)                Output Shape              Param #   \n",
            "=================================================================\n",
            " input_1 (InputLayer)        [(None, 100, 100, 3)]     0         \n",
            "                                                                 \n",
            " block1_conv1 (Conv2D)       (None, 100, 100, 64)      1792      \n",
            "                                                                 \n",
            " block1_conv2 (Conv2D)       (None, 100, 100, 64)      36928     \n",
            "                                                                 \n",
            " block1_pool (MaxPooling2D)  (None, 50, 50, 64)        0         \n",
            "                                                                 \n",
            " block2_conv1 (Conv2D)       (None, 50, 50, 128)       73856     \n",
            "                                                                 \n",
            " block2_conv2 (Conv2D)       (None, 50, 50, 128)       147584    \n",
            "                                                                 \n",
            " block2_pool (MaxPooling2D)  (None, 25, 25, 128)       0         \n",
            "                                                                 \n",
            " block3_conv1 (Conv2D)       (None, 25, 25, 256)       295168    \n",
            "                                                                 \n",
            " block3_conv2 (Conv2D)       (None, 25, 25, 256)       590080    \n",
            "                                                                 \n",
            " block3_conv3 (Conv2D)       (None, 25, 25, 256)       590080    \n",
            "                                                                 \n",
            " block3_pool (MaxPooling2D)  (None, 12, 12, 256)       0         \n",
            "                                                                 \n",
            " block4_conv1 (Conv2D)       (None, 12, 12, 512)       1180160   \n",
            "                                                                 \n",
            " block4_conv2 (Conv2D)       (None, 12, 12, 512)       2359808   \n",
            "                                                                 \n",
            " block4_conv3 (Conv2D)       (None, 12, 12, 512)       2359808   \n",
            "                                                                 \n",
            " block4_pool (MaxPooling2D)  (None, 6, 6, 512)         0         \n",
            "                                                                 \n",
            " block5_conv1 (Conv2D)       (None, 6, 6, 512)         2359808   \n",
            "                                                                 \n",
            " block5_conv2 (Conv2D)       (None, 6, 6, 512)         2359808   \n",
            "                                                                 \n",
            " block5_conv3 (Conv2D)       (None, 6, 6, 512)         2359808   \n",
            "                                                                 \n",
            " block5_pool (MaxPooling2D)  (None, 3, 3, 512)         0         \n",
            "                                                                 \n",
            "=================================================================\n",
            "Total params: 14,714,688\n",
            "Trainable params: 14,714,688\n",
            "Non-trainable params: 0\n",
            "_________________________________________________________________\n"
          ]
        }
      ],
      "source": [
        "conv_base.summary()"
      ]
    },
    {
      "cell_type": "markdown",
      "metadata": {},
      "source": [
        "Basically, it would freeze all the layers up to `black4_conv2` , and allows to make  the last 4 layers `block5_conv1`, `block5_conv2`, and `block5_conv3` trainable."
      ]
    },
    {
      "cell_type": "code",
      "execution_count": 51,
      "metadata": {},
      "outputs": [],
      "source": [
        "def build_model(alpha=0.05):\n",
        "    conv_base = keras.applications.vgg16.VGG16(\n",
        "                            weights=\"imagenet\",\n",
        "                            include_top=False, # include the densely connected classifier on top of the network\n",
        "                            input_shape=(100, 100, 3)) \n",
        "    \n",
        "\n",
        "    conv_base.trainable = True\n",
        "\n",
        "    for layer in conv_base.layers[:-4]:\n",
        "        layer.trainable = False # this code allows\n",
        "\n",
        "    model = models.Sequential()\n",
        "    \n",
        "    model.add(conv_base)\n",
        "    model.add(layers.Flatten())\n",
        "    \n",
        "    # model.add(layers.Dense(256, activation='relu', input_dim=4 * 4 * 512))\n",
        "    # model.add(layers.Dropout(0.5))\n",
        "\n",
        "    model.add(layers.Dense(131, activation='sigmoid'))\n",
        "\n",
        "    model.compile(optimizer=keras.optimizers.RMSprop(learning_rate=alpha),       \n",
        "                loss='categorical_crossentropy',\n",
        "                metrics=['accuracy']\n",
        "                )\n",
        "    \n",
        "    return model                 "
      ]
    },
    {
      "cell_type": "code",
      "execution_count": 53,
      "metadata": {
        "colab": {
          "base_uri": "https://localhost:8080/",
          "height": 380
        },
        "id": "ByUpio6J3OgP",
        "outputId": "ff7ba8e7-e36e-45e8-8ae5-e34b7e36d6af"
      },
      "outputs": [
        {
          "name": "stdout",
          "output_type": "stream",
          "text": [
            "Epoch 1/10\n",
            "1694/1694 [==============================] - 56s 33ms/step - loss: 1.3685 - accuracy: 0.7237 - val_loss: 2.2764 - val_accuracy: 0.8316\n",
            "Epoch 2/10\n",
            "1694/1694 [==============================] - 56s 33ms/step - loss: 0.3074 - accuracy: 0.9768 - val_loss: 2.5156 - val_accuracy: 0.9213\n",
            "Epoch 3/10\n",
            "1694/1694 [==============================] - 55s 32ms/step - loss: 0.3212 - accuracy: 0.9877 - val_loss: 4.4356 - val_accuracy: 0.9202\n",
            "Epoch 4/10\n",
            "1694/1694 [==============================] - 55s 33ms/step - loss: 0.2928 - accuracy: 0.9913 - val_loss: 3.6631 - val_accuracy: 0.9445\n",
            "Epoch 5/10\n",
            "1694/1694 [==============================] - 55s 32ms/step - loss: 0.2541 - accuracy: 0.9936 - val_loss: 5.4297 - val_accuracy: 0.9398\n",
            "Epoch 6/10\n",
            "1694/1694 [==============================] - 53s 32ms/step - loss: 0.2783 - accuracy: 0.9945 - val_loss: 8.4774 - val_accuracy: 0.9319\n",
            "Epoch 7/10\n",
            "1694/1694 [==============================] - 55s 33ms/step - loss: 0.2551 - accuracy: 0.9959 - val_loss: 9.1381 - val_accuracy: 0.9357\n",
            "Epoch 8/10\n",
            "1694/1694 [==============================] - 54s 32ms/step - loss: 0.2973 - accuracy: 0.9958 - val_loss: 6.3413 - val_accuracy: 0.9481\n",
            "Epoch 9/10\n",
            "1694/1694 [==============================] - 55s 33ms/step - loss: 0.2267 - accuracy: 0.9971 - val_loss: 6.0368 - val_accuracy: 0.9462\n",
            "Epoch 10/10\n",
            "1694/1694 [==============================] - 55s 32ms/step - loss: 0.1162 - accuracy: 0.9982 - val_loss: 13.3864 - val_accuracy: 0.9415\n"
          ]
        }
      ],
      "source": [
        "alpha= 0.001\n",
        "\n",
        "model = build_model(alpha=alpha)\n",
        "history = model.fit(train_ds,\n",
        "                        epochs=10,\n",
        "                        batch_size=20,\n",
        "                        validation_data=val_ds)"
      ]
    },
    {
      "cell_type": "code",
      "execution_count": 61,
      "metadata": {},
      "outputs": [
        {
          "data": {
            "text/plain": [
              "<matplotlib.legend.Legend at 0x7f24b05d43d0>"
            ]
          },
          "execution_count": 61,
          "metadata": {},
          "output_type": "execute_result"
        },
        {
          "data": {
            "image/png": "[encoded data removed]",
            "text/plain": [
              "<Figure size 432x288 with 1 Axes>"
            ]
          },
          "metadata": {},
          "output_type": "display_data"
        }
      ],
      "source": [
        "plt.plot(history.history['accuracy'],label='training')\n",
        "plt.title(\"Training vs Validation Accuracy - VGG 16 First Model\")\n",
        "plt.plot(history.history['val_accuracy'],label='validation')\n",
        "plt.ylim(0.9, 1) # zoom to look the graphs more closely\n",
        "plt.legend()"
      ]
    },
    {
      "cell_type": "code",
      "execution_count": 60,
      "metadata": {},
      "outputs": [
        {
          "data": {
            "text/plain": [
              "<matplotlib.legend.Legend at 0x7f2478509d10>"
            ]
          },
          "execution_count": 60,
          "metadata": {},
          "output_type": "execute_result"
        },
        {
          "data": {
            "image/png": "[encoded data removed]",
            "text/plain": [
              "<Figure size 432x288 with 1 Axes>"
            ]
          },
          "metadata": {},
          "output_type": "display_data"
        }
      ],
      "source": [
        "plt.plot(history.history['loss'],'ro',label='training')\n",
        "plt.title(\"Training vs Validation Accuracy - VGG 16 First Model\")\n",
        "plt.plot(history.history['val_loss'],'b',label='validation')\n",
        "\n",
        "\n",
        "plt.legend()"
      ]
    },
    {
      "cell_type": "code",
      "execution_count": 54,
      "metadata": {},
      "outputs": [
        {
          "name": "stdout",
          "output_type": "stream",
          "text": [
            "709/709 [==============================] - 17s 23ms/step - loss: 10.6204 - accuracy: 0.9388\n"
          ]
        },
        {
          "data": {
            "text/plain": [
              "[10.6204252243042, 0.9387782216072083]"
            ]
          },
          "execution_count": 54,
          "metadata": {},
          "output_type": "execute_result"
        }
      ],
      "source": [
        "model.evaluate(test_ds)\n"
      ]
    },
    {
      "cell_type": "markdown",
      "metadata": {},
      "source": [
        "The accuracy on the test dataset went up by $2\\%$ , however the loss is quite high $[10.620]$, this should be improved with dropout regularization, adding more layers, tuning the learning rate, and adding data augmentation."
      ]
    },
    {
      "cell_type": "markdown",
      "metadata": {},
      "source": [
        "### Hyperparameter Tuning for VGG16"
      ]
    },
    {
      "cell_type": "code",
      "execution_count": null,
      "metadata": {},
      "outputs": [],
      "source": []
    }
  ],
  "metadata": {
    "accelerator": "GPU",
    "colab": {
      "name": "FruitsProject_VGG.ipynb",
      "provenance": []
    },
    "kernelspec": {
      "display_name": "Python 3",
      "name": "python3"
    },
    "language_info": {
      "codemirror_mode": {
        "name": "ipython",
        "version": 3
      },
      "file_extension": ".py",
      "mimetype": "text/x-python",
      "name": "python",
      "nbconvert_exporter": "python",
      "pygments_lexer": "ipython3",
      "version": "3.7.12"
    },
    "orig_nbformat": 4
  },
  "nbformat": 4,
  "nbformat_minor": 0
}
